{
 "cells": [
  {
   "cell_type": "code",
   "execution_count": 3,
   "id": "91b83c00",
   "metadata": {},
   "outputs": [
    {
     "name": "stdout",
     "output_type": "stream",
     "text": [
      "original dataframe\n",
      "    name  age  salary\n",
      "0  shubh  2.0     222\n",
      "1  ishan  NaN     333\n",
      "2  naman  4.0     444\n",
      "3  taman  5.0     555\n",
      "    name    age  salary\n",
      "0  False  False   False\n",
      "1  False   True   False\n",
      "2  False  False   False\n",
      "3  False  False   False\n",
      "name      0\n",
      "age       1\n",
      "salary    0\n",
      "dtype: int64\n",
      "    name       age  salary\n",
      "0  shubh  2.000000     222\n",
      "1  ishan  3.666667     333\n",
      "2  naman  4.000000     444\n",
      "3  taman  5.000000     555\n"
     ]
    },
    {
     "name": "stderr",
     "output_type": "stream",
     "text": [
      "C:\\Users\\athar\\AppData\\Local\\Temp\\ipykernel_19304\\3991369335.py:16: FutureWarning: A value is trying to be set on a copy of a DataFrame or Series through chained assignment using an inplace method.\n",
      "The behavior will change in pandas 3.0. This inplace method will never work because the intermediate object on which we are setting values always behaves as a copy.\n",
      "\n",
      "For example, when doing 'df[col].method(value, inplace=True)', try using 'df.method({col: value}, inplace=True)' or df[col] = df[col].method(value) instead, to perform the operation inplace on the original object.\n",
      "\n",
      "\n",
      "  df['age'].fillna(df['age'].mean(), inplace=True)\n"
     ]
    }
   ],
   "source": [
    "import pandas as pd\n",
    "\n",
    "data = { \n",
    "    'name': ['shubh', 'ishan', 'naman', 'taman'],\n",
    "    'age' : [2,None,4,5],\n",
    "    'salary' : [222,333,444,555]\n",
    "}\n",
    "\n",
    "df = pd.DataFrame(data)\n",
    "print(\"original dataframe\")\n",
    "print(df)\n",
    "\n",
    "print(df.isnull())\n",
    "print(df.isnull().sum())\n",
    "\n",
    "df['age'].fillna(df['age'].mean(), inplace=True)\n",
    "df['salary'].fillna(df['salary'],inplace=True)\n",
    "print(df)\n"
   ]
  },
  {
   "cell_type": "code",
   "execution_count": 6,
   "id": "0355daf5",
   "metadata": {},
   "outputs": [
    {
     "name": "stdout",
     "output_type": "stream",
     "text": [
      "Columns after cleaning: ['Name', 'Gender', 'City', 'Passed']\n",
      "\n",
      "Label Encoded Data\n",
      "      Name  Gender  Gender_Encoded Passed  Passed_Encoded\n",
      "0     Aman    Male               1    Yes               1\n",
      "1    Priya  Female               0    Yes               1\n",
      "2    Rahul    Male               1     No               0\n",
      "3   Anjali  Female               0    Yes               1\n",
      "4     Ravi    Male               1    Yes               1\n",
      "5    Meera  Female               0    Yes               1\n",
      "6    Arjun    Male               1     No               0\n",
      "7     Neha  Female               0    Yes               1\n",
      "8    Imran    Male               1    Yes               1\n",
      "9    Sneha  Female               0    Yes               1\n",
      "10     Raj    Male               1    Yes               1\n",
      "11   Divya  Female               0     No               0\n",
      "12   Kabir    Male               1    Yes               1\n",
      "13   Karan    Male               1    Yes               1\n",
      "14   Pooja  Female               0    Yes               1\n",
      "15  Rakesh    Male               1    Yes               1\n",
      "16    Isha  Female               0     No               0\n",
      "17   Rohit    Male               1    Yes               1\n",
      "18   Deepa  Female               0    Yes               1\n",
      "\n",
      "One-Hot Encoded Data (City)\n",
      "      Name  Gender Passed  Gender_Encoded  Passed_Encoded  City_Bangalore  \\\n",
      "0     Aman    Male    Yes               1               1           False   \n",
      "1    Priya  Female    Yes               0               1           False   \n",
      "2    Rahul    Male     No               1               0            True   \n",
      "3   Anjali  Female    Yes               0               1           False   \n",
      "4     Ravi    Male    Yes               1               1           False   \n",
      "5    Meera  Female    Yes               0               1           False   \n",
      "6    Arjun    Male     No               1               0            True   \n",
      "7     Neha  Female    Yes               0               1           False   \n",
      "8    Imran    Male    Yes               1               1           False   \n",
      "9    Sneha  Female    Yes               0               1           False   \n",
      "10     Raj    Male    Yes               1               1           False   \n",
      "11   Divya  Female     No               0               0           False   \n",
      "12   Kabir    Male    Yes               1               1           False   \n",
      "13   Karan    Male    Yes               1               1            True   \n",
      "14   Pooja  Female    Yes               0               1           False   \n",
      "15  Rakesh    Male    Yes               1               1           False   \n",
      "16    Isha  Female     No               0               0           False   \n",
      "17   Rohit    Male    Yes               1               1           False   \n",
      "18   Deepa  Female    Yes               0               1            True   \n",
      "\n",
      "    City_Chennai  City_Delhi  City_Mumbai  \n",
      "0          False        True        False  \n",
      "1          False       False         True  \n",
      "2          False       False        False  \n",
      "3          False       False         True  \n",
      "4          False        True        False  \n",
      "5           True       False        False  \n",
      "6          False       False        False  \n",
      "7          False        True        False  \n",
      "8           True       False        False  \n",
      "9          False       False         True  \n",
      "10          True       False        False  \n",
      "11         False        True        False  \n",
      "12         False       False         True  \n",
      "13         False       False        False  \n",
      "14         False       False         True  \n",
      "15          True       False        False  \n",
      "16         False        True        False  \n",
      "17          True       False        False  \n",
      "18         False       False        False  \n"
     ]
    }
   ],
   "source": [
    "from sklearn.preprocessing import LabelEncoder\n",
    "import pandas as pd\n",
    "\n",
    "df = pd.read_csv(\"Sample_Data.csv\")\n",
    "\n",
    "# Clean column names (remove spaces, make consistent)\n",
    "df.columns = df.columns.str.strip()\n",
    "\n",
    "df_label = df.copy()\n",
    "le = LabelEncoder()\n",
    "\n",
    "print(\"Columns after cleaning:\", df_label.columns.tolist())  # Debug\n",
    "\n",
    "df_label['Gender_Encoded'] = le.fit_transform(df_label['Gender'])\n",
    "df_label['Passed_Encoded'] = le.fit_transform(df_label['Passed'])\n",
    "\n",
    "print('\\nLabel Encoded Data')\n",
    "print(df_label[['Name','Gender','Gender_Encoded','Passed','Passed_Encoded']])\n",
    "\n",
    "df_encoded = pd.get_dummies(df_label, columns =['City'])\n",
    "print('\\nOne-Hot Encoded Data (City)')\n",
    "print(df_encoded)\n"
   ]
  },
  {
   "cell_type": "code",
   "execution_count": 7,
   "id": "9b36a828",
   "metadata": {},
   "outputs": [
    {
     "ename": "TypeError",
     "evalue": "TransformerMixin.fit_transform() missing 1 required positional argument: 'X'",
     "output_type": "error",
     "traceback": [
      "\u001b[31m---------------------------------------------------------------------------\u001b[39m",
      "\u001b[31mTypeError\u001b[39m                                 Traceback (most recent call last)",
      "\u001b[36mCell\u001b[39m\u001b[36m \u001b[39m\u001b[32mIn[7]\u001b[39m\u001b[32m, line 4\u001b[39m\n\u001b[32m      1\u001b[39m \u001b[38;5;28;01mfrom\u001b[39;00m\u001b[38;5;250m \u001b[39m\u001b[34;01msklearn\u001b[39;00m\u001b[34;01m.\u001b[39;00m\u001b[34;01mpreprocessing\u001b[39;00m\u001b[38;5;250m \u001b[39m\u001b[38;5;28;01mimport\u001b[39;00m StandardScaler, MinMaxScaler\n\u001b[32m      3\u001b[39m scaler = StandardScaler()\n\u001b[32m----> \u001b[39m\u001b[32m4\u001b[39m x_scaled = \u001b[43mscaler\u001b[49m\u001b[43m.\u001b[49m\u001b[43mfit_transform\u001b[49m\u001b[43m(\u001b[49m\u001b[43m)\u001b[49m\n\u001b[32m      6\u001b[39m scaler=MinMaxScaler()\n\u001b[32m      7\u001b[39m x_scaled = scaler.fit_transform()\n",
      "\u001b[31mTypeError\u001b[39m: TransformerMixin.fit_transform() missing 1 required positional argument: 'X'"
     ]
    }
   ],
   "source": [
    "from sklearn.preprocessing import StandardScaler, MinMaxScaler\n",
    "\n",
    "scaler = StandardScaler()\n",
    "x_scaled = scaler.fit_transform()\n",
    "\n",
    "scaler=MinMaxScaler()\n",
    "x_scaled = scaler.fit_transform()"
   ]
  },
  {
   "cell_type": "code",
   "execution_count": null,
   "id": "80e66991",
   "metadata": {},
   "outputs": [
    {
     "name": "stdout",
     "output_type": "stream",
     "text": [
      "Standard Scaler Output:\n",
      "   StudyHours  TestScore\n",
      "0   -1.414214  -1.414214\n",
      "1   -0.707107  -0.707107\n",
      "2    0.000000   0.000000\n",
      "3    0.707107   0.707107\n",
      "4    1.414214   1.414214\n"
     ]
    }
   ],
   "source": [
    "import pandas as pd\n",
    "from sklearn.preprocessing import StandardScaler, MinMaxScaler\n",
    "from sklearn.model_selection import train_test_split\n",
    "\n",
    "data = {\n",
    "    'StudyHours':[1,2,3,4,5],\n",
    "    'TestScore':[40,50,60,70,80]\n",
    "}\n",
    "\n",
    "df = pd.DataFrame(data)\n",
    "\n",
    "Standard_Scaler = StandardScaler()\n",
    "Standard_Scaled = Standard_Scaler.fit_transform(df)\n",
    "\n",
    "print(\"Standard Scaler Output:\")\n",
    "print(pd.DataFrame(Standard_Scaled, columns=['StudyHours', 'TestScore']))\n",
    "\n",
    "minmax_scaler = MinMaxScaler()\n",
    "minmax_scaled = minmax_scaler.fit_transform(df)"
   ]
  }
 ],
 "metadata": {
  "kernelspec": {
   "display_name": "Python 3",
   "language": "python",
   "name": "python3"
  },
  "language_info": {
   "codemirror_mode": {
    "name": "ipython",
    "version": 3
   },
   "file_extension": ".py",
   "mimetype": "text/x-python",
   "name": "python",
   "nbconvert_exporter": "python",
   "pygments_lexer": "ipython3",
   "version": "3.13.7"
  }
 },
 "nbformat": 4,
 "nbformat_minor": 5
}
