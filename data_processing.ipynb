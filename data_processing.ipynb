{
 "cells": [
  {
   "cell_type": "code",
   "execution_count": 6,
   "id": "91b83c00",
   "metadata": {},
   "outputs": [
    {
     "name": "stdout",
     "output_type": "stream",
     "text": [
      "original dataframe\n",
      "    name  age  salary\n",
      "0  shubh    2     222\n",
      "1  ishan    3     333\n",
      "2  naman    4     444\n",
      "3  taman    5     555\n"
     ]
    }
   ],
   "source": [
    "import pandas as pd\n",
    "\n",
    "data = { \n",
    "    'name': ['shubh', 'ishan', 'naman', 'taman'],\n",
    "    'age' : [2,3,4,5],\n",
    "    'salary' : [222,333,444,555]\n",
    "}\n",
    "\n",
    "df = pd.DataFrame(data)\n",
    "print(\"original dataframe\")\n",
    "print(df)"
   ]
  }
 ],
 "metadata": {
  "kernelspec": {
   "display_name": "Python 3",
   "language": "python",
   "name": "python3"
  },
  "language_info": {
   "codemirror_mode": {
    "name": "ipython",
    "version": 3
   },
   "file_extension": ".py",
   "mimetype": "text/x-python",
   "name": "python",
   "nbconvert_exporter": "python",
   "pygments_lexer": "ipython3",
   "version": "3.13.7"
  }
 },
 "nbformat": 4,
 "nbformat_minor": 5
}
